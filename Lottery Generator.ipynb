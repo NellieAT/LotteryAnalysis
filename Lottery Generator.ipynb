{
 "cells": [
  {
   "cell_type": "code",
   "execution_count": 35,
   "id": "e4f3409d",
   "metadata": {},
   "outputs": [
    {
     "name": "stdout",
     "output_type": "stream",
     "text": [
      "[([9, 18, 27, 45, 55], [2]), ([1, 3, 15, 42, 52], [14]), ([4, 7, 11, 34, 47], [45])]\n"
     ]
    }
   ],
   "source": [
    "import random\n",
    "\n",
    "def lotto_game():\n",
    "    #Initialise an empty list that will be used to store the 5 lucky numbers!\n",
    "    LottoNumbers = []\n",
    "    for i in range (0,5):\n",
    "        number = random.randint(1,59)\n",
    "        #Check if this number has already been picked and ...\n",
    "        while number in LottoNumbers:\n",
    "            # ... if it has, pick a new number instead \n",
    "            number = random.randint(1,59)\n",
    "        #Now that we have a unique number, let's append it to our list.\n",
    "        LottoNumbers.append(number)\n",
    "    #Sort the list in ascending order\n",
    "    LottoNumbers.sort()\n",
    "    \n",
    "   #Initialise an empty list to store the bonus number!\n",
    "    LottoBonus = [] \n",
    "    for i in range (0,1):\n",
    "        num = random.randint(1,59)\n",
    "        while num in LottoNumbers:\n",
    "            num = random.randint(1,59)\n",
    "    LottoBonus.append(num)\n",
    "    return LottoNumbers, LottoBonus\n",
    "\n",
    "    \n",
    "def lotto_draw_simulate(n):\n",
    "    #Initialise an empty list for each draw\n",
    "    Draw = []\n",
    "    #For each draw...\n",
    "    for i in range(n):\n",
    "        #...Append the result of each loto game\n",
    "        Draw.append(lotto_game())\n",
    "    return Draw\n",
    "\n",
    "#Specify number of draws and save output to a variable\n",
    "lotto_batch_results = lotto_draw_simulate(3)\n",
    "#Print variable to see each specified simulated draw\n",
    "print(lotto_batch_results)\n"
   ]
  },
  {
   "cell_type": "code",
   "execution_count": 6,
   "id": "b2001161",
   "metadata": {},
   "outputs": [
    {
     "name": "stdout",
     "output_type": "stream",
     "text": [
      ">>> Today's EuroMillions numbers are: \n",
      "[1, 12, 22, 30, 31]\n",
      ">>> Today's EuroMillions Lucky Star numbers are: \n",
      "[11, 9]\n"
     ]
    }
   ],
   "source": [
    "import random\n",
    "\n",
    "#Initialise an empty list that will be used to store the 6 lucky numbers!\n",
    "EuroNumbers = []\n",
    "for i in range (0,5):\n",
    "    number = random.randint(1,50)\n",
    "    #Check if this number has already been picked and ...\n",
    "    while number in EuroNumbers:\n",
    "        # ... if it has, pick a new number instead \n",
    "        number = random.randint(1,50)\n",
    "    #Now that we have a unique number, let's append it to our list.\n",
    "    EuroNumbers.append(number)\n",
    "#Sort the list in ascending order\n",
    "EuroNumbers.sort()\n",
    "\n",
    "#Initialise an empty list to store the bonus number!\n",
    "EuroLuckyStars = [] \n",
    "for i in range (0,2):\n",
    "    num = random.randint(1,12)\n",
    "    #Numbers can repeat between the euro main and euro lucky star pool.\n",
    "    EuroLuckyStars.append(num)\n",
    "\n",
    "\n",
    "#Display the list on screen:\n",
    "print(\">>> Today's EuroMillions numbers are: \") \n",
    "print(EuroNumbers)\n",
    "print(\">>> Today's EuroMillions Lucky Star numbers are: \")\n",
    "print(EuroLuckyStars)"
   ]
  },
  {
   "cell_type": "code",
   "execution_count": null,
   "id": "0df1f712",
   "metadata": {},
   "outputs": [],
   "source": []
  }
 ],
 "metadata": {
  "kernelspec": {
   "display_name": "Python 3 (ipykernel)",
   "language": "python",
   "name": "python3"
  },
  "language_info": {
   "codemirror_mode": {
    "name": "ipython",
    "version": 3
   },
   "file_extension": ".py",
   "mimetype": "text/x-python",
   "name": "python",
   "nbconvert_exporter": "python",
   "pygments_lexer": "ipython3",
   "version": "3.9.7"
  }
 },
 "nbformat": 4,
 "nbformat_minor": 5
}
